{
 "cells": [
  {
   "cell_type": "markdown",
   "metadata": {
    "id": "zApcW1CsZyao"
   },
   "source": [
    "# <center>**ML School by REU Data Scinece Club**</center>\n",
    "\n",
    "----\n",
    "## <center> Неделя №6 </center>"
   ]
  },
  {
   "cell_type": "markdown",
   "metadata": {
    "id": "Sdlo2SPRZ4u5"
   },
   "source": [
    "На этой неделе вам предстоит написать Дерево рещений своими руками и оптимизировать его. "
   ]
  },
  {
   "cell_type": "markdown",
   "metadata": {
    "id": "pfEbB17kaJbj"
   },
   "source": [
    "Импортируем библиотеки которые нам нужны"
   ]
  },
  {
   "cell_type": "code",
   "execution_count": 1,
   "metadata": {
    "ExecuteTime": {
     "end_time": "2023-04-29T19:42:27.378529Z",
     "start_time": "2023-04-29T19:42:26.919572Z"
    },
    "id": "ef9MesksZyLw"
   },
   "outputs": [],
   "source": [
    "import numpy as np\n",
    "import pandas as pd\n",
    "\n",
    "from sklearn.metrics import f1_score as f1\n",
    "from sklearn.model_selection import train_test_split\n",
    "from sklearn.ensemble import RandomForestClassifier\n",
    "from sklearn.model_selection import GridSearchCV"
   ]
  },
  {
   "cell_type": "markdown",
   "metadata": {
    "id": "-L9grpivbnfr"
   },
   "source": [
    "Импортируем нужные данные, в этот раз мы будем пытаться предсказать ценовой диапазон цены на телефон. Данные уже обработаны"
   ]
  },
  {
   "cell_type": "code",
   "execution_count": 2,
   "metadata": {
    "ExecuteTime": {
     "end_time": "2023-04-29T19:42:27.387020Z",
     "start_time": "2023-04-29T19:42:27.379405Z"
    },
    "colab": {
     "base_uri": "https://localhost:8080/",
     "height": 488
    },
    "executionInfo": {
     "elapsed": 425,
     "status": "ok",
     "timestamp": 1674204735793,
     "user": {
      "displayName": "REU Data Science Club",
      "userId": "18279103372660482898"
     },
     "user_tz": -180
    },
    "id": "8E3mFWfzaUWM",
    "outputId": "9cb4a8b1-4f88-4b4a-c84d-6984a52bd965"
   },
   "outputs": [
    {
     "name": "stdout",
     "output_type": "stream",
     "text": [
      "<class 'pandas.core.frame.DataFrame'>\n",
      "RangeIndex: 2000 entries, 0 to 1999\n",
      "Data columns (total 21 columns):\n",
      " #   Column         Non-Null Count  Dtype  \n",
      "---  ------         --------------  -----  \n",
      " 0   battery_power  2000 non-null   int64  \n",
      " 1   blue           2000 non-null   int64  \n",
      " 2   clock_speed    2000 non-null   float64\n",
      " 3   dual_sim       2000 non-null   int64  \n",
      " 4   fc             2000 non-null   int64  \n",
      " 5   four_g         2000 non-null   int64  \n",
      " 6   int_memory     2000 non-null   int64  \n",
      " 7   m_dep          2000 non-null   float64\n",
      " 8   mobile_wt      2000 non-null   int64  \n",
      " 9   n_cores        2000 non-null   int64  \n",
      " 10  pc             2000 non-null   int64  \n",
      " 11  px_height      2000 non-null   int64  \n",
      " 12  px_width       2000 non-null   int64  \n",
      " 13  ram            2000 non-null   int64  \n",
      " 14  sc_h           2000 non-null   int64  \n",
      " 15  sc_w           2000 non-null   int64  \n",
      " 16  talk_time      2000 non-null   int64  \n",
      " 17  three_g        2000 non-null   int64  \n",
      " 18  touch_screen   2000 non-null   int64  \n",
      " 19  wifi           2000 non-null   int64  \n",
      " 20  price_range    2000 non-null   int64  \n",
      "dtypes: float64(2), int64(19)\n",
      "memory usage: 328.2 KB\n",
      "None\n",
      "\n",
      " PRICE_RANGE UNIQUE VALUES:  [1 2 3 0]\n"
     ]
    }
   ],
   "source": [
    "df = pd.read_csv('/Users/ivan/DS_educate/Courses_ipynb/REU/data/mobile_price_prediction.csv')\n",
    "print(df.info())\n",
    "print(\"\\n PRICE_RANGE UNIQUE VALUES: \", df[\"price_range\"].unique())"
   ]
  },
  {
   "cell_type": "markdown",
   "metadata": {
    "id": "9PAio89YcU82"
   },
   "source": [
    "Как мы видим у нас есть 4 класса, разделите данные на train и test. test_size = 0.25 и random_state = 1"
   ]
  },
  {
   "cell_type": "code",
   "execution_count": 3,
   "metadata": {
    "ExecuteTime": {
     "end_time": "2023-04-29T19:42:27.391105Z",
     "start_time": "2023-04-29T19:42:27.388498Z"
    }
   },
   "outputs": [],
   "source": [
    "features = df.columns[:-1].to_list()\n",
    "target = df.columns[-1] # price_range\n",
    "X = df[features]\n",
    "y = df[target]"
   ]
  },
  {
   "cell_type": "code",
   "execution_count": 4,
   "metadata": {
    "ExecuteTime": {
     "end_time": "2023-04-29T19:42:27.394895Z",
     "start_time": "2023-04-29T19:42:27.392170Z"
    },
    "id": "83k8LeU7cM3s"
   },
   "outputs": [],
   "source": [
    "X_train, X_test, y_train, y_test = train_test_split(X, y, test_size=0.25, random_state=1)"
   ]
  },
  {
   "cell_type": "markdown",
   "metadata": {
    "id": "UghHW63sdkTb"
   },
   "source": [
    "# **Задание 1. Функции для оптимизации (2 балла)**"
   ]
  },
  {
   "cell_type": "markdown",
   "metadata": {
    "id": "ERb0E5SHqHYU"
   },
   "source": [
    "Для начала реализуем критерий Gini по которому мы будем оптимизировать наше дерево. Чем данный критерий меньше, тем лучше новое разделение разделяет данные. На вход нашей функции будет подаваться массив с значениями y. Например [0, 1, 3, 2, 1, 0, 0,0 ]"
   ]
  },
  {
   "cell_type": "markdown",
   "metadata": {
    "id": "Nr9_HD5Ytxhv"
   },
   "source": [
    "$$ Gini = 1 - {\\sum_j}p_j^2 $$\n",
    "\n",
    "![image-7.png](https://wikimedia.org/api/rest_v1/media/math/render/svg/1fe8179fbf8ca4addf0e8f5f404fdbf153a04214)"
   ]
  },
  {
   "cell_type": "code",
   "execution_count": 5,
   "metadata": {
    "ExecuteTime": {
     "end_time": "2023-04-29T19:42:27.397539Z",
     "start_time": "2023-04-29T19:42:27.395708Z"
    },
    "id": "kynIdqIxd0Or"
   },
   "outputs": [],
   "source": [
    "def gini(array):\n",
    "    n = len(array)\n",
    "    freq = {}\n",
    "    for item in array:\n",
    "        if item in freq:\n",
    "            freq[item] += 1\n",
    "        else:\n",
    "            freq[item] = 1\n",
    "    p = [float(freq[x]) / n for x in freq]\n",
    "    return 1 - sum([x ** 2 for x in p])\n"
   ]
  },
  {
   "cell_type": "code",
   "execution_count": 6,
   "metadata": {
    "ExecuteTime": {
     "end_time": "2023-04-29T19:42:27.402816Z",
     "start_time": "2023-04-29T19:42:27.398354Z"
    }
   },
   "outputs": [
    {
     "data": {
      "text/plain": [
       "0.48"
      ]
     },
     "execution_count": 6,
     "metadata": {},
     "output_type": "execute_result"
    }
   ],
   "source": [
    "#define NumPy array of income values\n",
    "incomes = [0, 1, 1, 1, 0]\n",
    "\n",
    "#calculate Gini coefficient for array of incomes\n",
    "gini(incomes)"
   ]
  },
  {
   "cell_type": "markdown",
   "metadata": {
    "id": "Z1271cXHW_lX"
   },
   "source": [
    " Проверьте правильно ли работает ваша функция. Если вы запустили код ниже и он отработал без ошибок, то значит все хорошо"
   ]
  },
  {
   "cell_type": "code",
   "execution_count": 7,
   "metadata": {
    "ExecuteTime": {
     "end_time": "2023-04-29T19:42:27.406324Z",
     "start_time": "2023-04-29T19:42:27.403727Z"
    },
    "executionInfo": {
     "elapsed": 294,
     "status": "ok",
     "timestamp": 1680602898928,
     "user": {
      "displayName": "REU Data Science Club",
      "userId": "18279103372660482898"
     },
     "user_tz": -180
    },
    "id": "NLS9LMBAu8rt"
   },
   "outputs": [
    {
     "name": "stdout",
     "output_type": "stream",
     "text": [
      "Test case PASSED: gini([0, 0, 0, 0, 0]) = 0.0\n",
      "Test case PASSED: gini([0, 1, 1, 1, 0]) = 0.48\n",
      "Test case PASSED: gini([0, 1, 2, 3, 5, 5, 2]) = 0.7755102040816326\n"
     ]
    }
   ],
   "source": [
    "test_cases = [\n",
    "    ([0, 0, 0, 0, 0], 0.0),\n",
    "    ([0, 1, 1, 1, 0], 0.48),\n",
    "    ([0, 1, 2, 3, 5, 5, 2], 0.7755102040816326)\n",
    "]\n",
    "\n",
    "# Test the gini function against the test cases\n",
    "for x, expected in test_cases:\n",
    "    result = gini(x)\n",
    "    if result == expected:\n",
    "        print(f\"Test case PASSED: gini({x}) = {result}\")\n",
    "    else:\n",
    "        raise ValueError(f\"Test case FAILED: gini({x}) = {result}, expected {expected}\")\n"
   ]
  },
  {
   "cell_type": "markdown",
   "metadata": {
    "id": "X5XpQ7WLzUyj"
   },
   "source": [
    "# **Задание 2. Дерево решений (13 баллов)**"
   ]
  },
  {
   "cell_type": "markdown",
   "metadata": {
    "id": "mp5WvOuszpRn"
   },
   "source": [
    "Теперь напишем сам алгоритм, в нем обязательно нужно настроить возможность ограничения дерева по глубине. Алгоритм обучения вы можете написать в удобном вам виде, главное чтобы он работал"
   ]
  },
  {
   "cell_type": "code",
   "execution_count": 8,
   "metadata": {
    "ExecuteTime": {
     "end_time": "2023-04-29T19:42:27.413803Z",
     "start_time": "2023-04-29T19:42:27.407358Z"
    },
    "code_folding": [
     0,
     45
    ]
   },
   "outputs": [],
   "source": [
    "class MyDecisionTree:\n",
    "    def __init__(self, max_depth, min_samples_split):\n",
    "        self.max_depth = max_depth   # задаем максимальную глубину\n",
    "        self.min_samples_split = min_samples_split # миниальное число наблюдений для разбиения\n",
    "\n",
    "    def fit(self, X, y):\n",
    "        self.n_classes_ = len(np.unique(y)) # количество классов\n",
    "        self.tree_ = self._plant_tree(X, y) # строим дерево \n",
    "\n",
    "    def predict(self, X):\n",
    "        return [self._predict(inputs) for inputs in X]\n",
    "\n",
    "    # Функция которая поможет найти лучший признак для разбиения в наших данных\n",
    "    def _best_split(self, X, y):\n",
    "\n",
    "        num_of_y = y.size # Сразу проверим что у нас больше чем одно наблюдение\n",
    "        if num_of_y <= 1:\n",
    "            return None, None\n",
    "\n",
    "        # Создадим list, где у нас будет указано количество каждого класса\n",
    "        num_of_each_class = [np.sum(y == c) for c in range(self.n_classes_)]\n",
    "        \n",
    "        # Ваш код тут, вам нужно:\n",
    "        # 1) Вернуть индекс колонки где лучше всего разбить данные\n",
    "        # 2) Найти в этой колоники лучшее значения для разбиения и вернуть их\n",
    "        # Также учитывайте, что если после рaзбиения в одном из листьев у вас меньше\n",
    "        # чем min_samples_split, вам не подходит такое разбиение\n",
    "        best_idx = None\n",
    "        best_thr = None\n",
    "        best_gini = 1.0\n",
    "        for idx in range(X.shape[1]):\n",
    "          thresholds = np.unique(X[:, idx])\n",
    "          for thr in thresholds:\n",
    "              left_indices = X[:, idx] < thr\n",
    "              right_indices = ~left_indices\n",
    "              if np.sum(left_indices) < self.min_samples_split or np.sum(right_indices) < self.min_samples_split:\n",
    "                  # Пропускаем разбиение, если один из листьев имеет меньше, чем min_samples_split\n",
    "                  continue\n",
    "\n",
    "        # Важный момент, при подсчете gini после разбиения, нужно подсчитать его как для\n",
    "        # правого листа, так и для левого, а затем расччитать общий gini. \n",
    "        # gini = (i * gini_left + (m - i) * gini_right) / m \n",
    "        # i - количество наблюдений в левом листе, m - в правом\n",
    "              gini_all = (np.sum(left_indices) * gini(y[left_indices]) + np.sum(right_indices) * gini(y[right_indices])) / num_of_y\n",
    "              if gini_all < best_gini:\n",
    "                  best_gini = gini_all\n",
    "                  best_idx = idx\n",
    "                  best_thr = thr\n",
    "        return best_idx, best_thr\n",
    "\n",
    "    def _plant_tree(self, X, y, depth=0):\n",
    "\n",
    "        # Для начала мы предскажем класс, взяв максимальным тот, который чаще всего встречается в данных \n",
    "        num_samples_per_class = [np.sum(y == i) for i in range(self.n_classes_)]\n",
    "        predicted_class = np.argmax(num_samples_per_class)\n",
    "\n",
    "        # Тут нам будет помогать другой класс Node, по-другому лист.\n",
    "        # Мы будем использовать его для сохранения информации о разбиении\n",
    "        node = Node(predicted_class=predicted_class)\n",
    "\n",
    "        if depth < self.max_depth:\n",
    "            idx, thr = self._best_split(X, y)\n",
    "            if idx is not None:\n",
    "                \n",
    "                # Ваш код тут. Создайте переменные со значениями X и y которые отправлись в правый лист.\n",
    "                # создайте также переменные с значениями, которые отправились в левый лист\n",
    "                # Другими словами просто разделите данные на две части по вашему best_split\n",
    "                left_indices = X[:, idx] < thr\n",
    "                right_indices = ~left_indices\n",
    "\n",
    "                node.feature_index = idx\n",
    "                node.threshold = thr\n",
    "                node.left = self._plant_tree(X[left_indices], y[left_indices], depth + 1) # вызовите plant_tree и передайте туда ваши переменные в левой части, к глубине прибавьте +1\n",
    "                node.right = self._plant_tree(X[right_indices], y[right_indices], depth + 1) # вызовите plant_tree и передайте туда ваши переменные в правой части, к глубине прибавьте +1\n",
    "\n",
    "        return node\n",
    "\n",
    "    def _predict(self, inputs):\n",
    "        node = self.tree_\n",
    "        while node.left:\n",
    "            if inputs[node.feature_index] < node.threshold:\n",
    "                node = node.left\n",
    "            else:\n",
    "                node = node.right\n",
    "        return node.predicted_class\n",
    "\n",
    "class Node:\n",
    "    def __init__(self, *, predicted_class):\n",
    "        self.predicted_class = predicted_class\n",
    "        self.feature_index = 0\n",
    "        self.threshold = 0\n",
    "        self.left = None\n",
    "        self.right = None\n"
   ]
  },
  {
   "cell_type": "code",
   "execution_count": 30,
   "metadata": {
    "ExecuteTime": {
     "end_time": "2023-04-29T19:47:02.539244Z",
     "start_time": "2023-04-29T19:47:00.215538Z"
    }
   },
   "outputs": [
    {
     "name": "stdout",
     "output_type": "stream",
     "text": [
      "max_depth=5, min_samples_split=2 \n",
      " F1 Score: 0.824\n"
     ]
    }
   ],
   "source": [
    "# Ваш код здесь\n",
    "model=MyDecisionTree(max_depth=5, min_samples_split=2)\n",
    "model.fit(X_train.values,y_train.values)\n",
    "y_pred=model.predict(X_test.values)\n",
    "f1_score = f1(y_test, y_pred, average='macro')\n",
    "print(\"max_depth=5, min_samples_split=2 \\n F1 Score:\", round(f1_score, 3))"
   ]
  },
  {
   "cell_type": "code",
   "execution_count": 43,
   "metadata": {
    "ExecuteTime": {
     "end_time": "2023-04-29T19:49:59.968922Z",
     "start_time": "2023-04-29T19:49:56.338154Z"
    }
   },
   "outputs": [
    {
     "name": "stdout",
     "output_type": "stream",
     "text": [
      "max_depth=30, min_samples_split=8 \n",
      " F1 Score: 0.835\n"
     ]
    }
   ],
   "source": [
    "model=MyDecisionTree(max_depth=30, min_samples_split=8)\n",
    "model.fit(X_train.values,y_train.values)\n",
    "y_pred=model.predict(X_test.values)\n",
    "f1_score = f1(y_test, y_pred, average='macro')\n",
    "print(\"max_depth=30, min_samples_split=8 \\n F1 Score:\", round(f1_score, 3))"
   ]
  },
  {
   "cell_type": "code",
   "execution_count": 44,
   "metadata": {
    "ExecuteTime": {
     "end_time": "2023-04-29T19:50:03.718179Z",
     "start_time": "2023-04-29T19:50:02.844445Z"
    }
   },
   "outputs": [
    {
     "name": "stdout",
     "output_type": "stream",
     "text": [
      "max_depth=1, min_samples_split=1 \n",
      " F1 Score: 0.323\n"
     ]
    }
   ],
   "source": [
    "model=MyDecisionTree(max_depth=1, min_samples_split=1)\n",
    "model.fit(X_train.values,y_train.values)\n",
    "y_pred=model.predict(X_test.values)\n",
    "f1_score = f1(y_test, y_pred, average='macro')\n",
    "print(\"max_depth=1, min_samples_split=1 \\n F1 Score:\", round(f1_score, 3))"
   ]
  },
  {
   "cell_type": "code",
   "execution_count": 47,
   "metadata": {
    "ExecuteTime": {
     "end_time": "2023-04-29T19:50:40.173333Z",
     "start_time": "2023-04-29T19:50:38.762993Z"
    }
   },
   "outputs": [
    {
     "name": "stdout",
     "output_type": "stream",
     "text": [
      "max_depth=2, min_samples_split=5 \n",
      " F1 Score: 0.739\n"
     ]
    }
   ],
   "source": [
    "model=MyDecisionTree(max_depth=2, min_samples_split=5)\n",
    "model.fit(X_train.values,y_train.values)\n",
    "y_pred=model.predict(X_test.values)\n",
    "f1_score = f1(y_test, y_pred, average='macro')\n",
    "print(\"max_depth=2, min_samples_split=5 \\n F1 Score:\", round(f1_score, 3))"
   ]
  },
  {
   "cell_type": "markdown",
   "metadata": {
    "id": "cOPYD2NQXXko"
   },
   "source": [
    "# **Задание 3. Деревья в Sklearn (5 баллов)**"
   ]
  },
  {
   "cell_type": "markdown",
   "metadata": {
    "id": "fo2JsaRUaaHz"
   },
   "source": [
    "Напишите поиск параметров(их должно быть минимум 4) с помощью GridSearchCV дл RandomForestClassifier. Он может долго перебирать параметры, это нормально. Оцените результат с помощью f1_score, укажите в нем average = 'marco'"
   ]
  },
  {
   "cell_type": "code",
   "execution_count": null,
   "metadata": {
    "ExecuteTime": {
     "end_time": "2023-04-29T19:42:29.956417Z",
     "start_time": "2023-04-29T19:42:29.956412Z"
    },
    "id": "I7us9VanXYJS"
   },
   "outputs": [],
   "source": [
    "gs_model = RandomForestClassifier()\n",
    "params = {\n",
    "    'max_depth': [1, 5, 10],\n",
    "    'n_estimators': [5, 20, 100],\n",
    "}\n",
    "\n",
    "gs = GridSearchCV(gs_model, params, cv=3, scoring='accuracy', verbose=3)\n",
    "gs.fit(X_train, y_train)\n",
    "\n",
    "print(\"Лучшие гиперпараметры:\", gs.best_params_)\n",
    "print(\"Лучшее значение метрики:\", gs.best_score_)"
   ]
  },
  {
   "cell_type": "code",
   "execution_count": null,
   "metadata": {
    "ExecuteTime": {
     "end_time": "2023-04-29T19:42:29.956905Z",
     "start_time": "2023-04-29T19:42:29.956899Z"
    }
   },
   "outputs": [],
   "source": [
    "preds_train = gs.predict(X_train)\n",
    "preds_test = gs.predict(X_test)"
   ]
  },
  {
   "cell_type": "code",
   "execution_count": null,
   "metadata": {
    "ExecuteTime": {
     "end_time": "2023-04-29T19:42:29.957835Z",
     "start_time": "2023-04-29T19:42:29.957826Z"
    }
   },
   "outputs": [],
   "source": [
    "print(\"\\nТочность на обучении f1:\", f1(y_train, preds_train, average='macro'))\n",
    "print(\"Точность на тесте f1:\", f1(y_test, preds_test, average='macro'))"
   ]
  },
  {
   "cell_type": "markdown",
   "metadata": {
    "ExecuteTime": {
     "end_time": "2023-04-29T19:04:36.364992Z",
     "start_time": "2023-04-29T19:04:36.218200Z"
    }
   },
   "source": [
    "![pic1.png](https://memesmix.net/media/created/ivas8z.jpg)"
   ]
  }
 ],
 "metadata": {
  "colab": {
   "authorship_tag": "ABX9TyNDEZEeZ+LCKZ4xvr1bteTt",
   "mount_file_id": "1MfOmabyF8awjPAGMTdcfLP0tzXfjNC0F",
   "provenance": []
  },
  "kernelspec": {
   "display_name": "Python 3 (ipykernel)",
   "language": "python",
   "name": "python3"
  },
  "language_info": {
   "codemirror_mode": {
    "name": "ipython",
    "version": 3
   },
   "file_extension": ".py",
   "mimetype": "text/x-python",
   "name": "python",
   "nbconvert_exporter": "python",
   "pygments_lexer": "ipython3",
   "version": "3.9.13"
  },
  "toc": {
   "base_numbering": 1,
   "nav_menu": {},
   "number_sections": true,
   "sideBar": true,
   "skip_h1_title": false,
   "title_cell": "Table of Contents",
   "title_sidebar": "Contents",
   "toc_cell": false,
   "toc_position": {},
   "toc_section_display": true,
   "toc_window_display": false
  },
  "varInspector": {
   "cols": {
    "lenName": 16,
    "lenType": 16,
    "lenVar": 40
   },
   "kernels_config": {
    "python": {
     "delete_cmd_postfix": "",
     "delete_cmd_prefix": "del ",
     "library": "var_list.py",
     "varRefreshCmd": "print(var_dic_list())"
    },
    "r": {
     "delete_cmd_postfix": ") ",
     "delete_cmd_prefix": "rm(",
     "library": "var_list.r",
     "varRefreshCmd": "cat(var_dic_list()) "
    }
   },
   "types_to_exclude": [
    "module",
    "function",
    "builtin_function_or_method",
    "instance",
    "_Feature"
   ],
   "window_display": false
  }
 },
 "nbformat": 4,
 "nbformat_minor": 1
}
